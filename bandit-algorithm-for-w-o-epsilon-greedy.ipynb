{
 "cells": [
  {
   "cell_type": "markdown",
   "id": "84365a94",
   "metadata": {
    "papermill": {
     "duration": 0.012765,
     "end_time": "2022-08-08T00:03:37.701111",
     "exception": false,
     "start_time": "2022-08-08T00:03:37.688346",
     "status": "completed"
    },
    "tags": []
   },
   "source": [
    "# The Multi-armed bandit\n",
    "## Chapter1. Two characters : Exploration and Exploitation\n",
    "### The Scientist and the Businessman\n",
    "\n",
    "로고를 다른 색으로 바꿀까 말까?\n",
    "- sicentist : 바꺼! A/B test - 동전 합쳐서 \n",
    "- businessman : 너가 마음에 들면 바꿔도 되지만, 돈드니까\n",
    " 위가 나오면 old version, 아래가 나오면 new version 줘서 뭐가 더 반응 좋은지 봐!\n",
    " -> 더 다양하게 해서 A, B, C, D, E test 해봐!\n",
    " \n",
    " \n",
    " 즉 There are Exploitation and Exploration Dillema있음.\n",
    " 새로운 option을 도전하는 Exploreㅁ만 ㅁ낳이 하면, 좋은 것을 최고로 많이 해서 보상을 많이 얻을 수 없게 됨.\n",
    " (여기에서 색깔 원하는거 다 test하고 다 물어보면 돈이 너무 많이 들고 비효율적)\n",
    " \n",
    " 그렇다고 그냥 내가 아는 것 중에서 제일 좋다고 (보상이 높다고) 생각되는 것들만 게속 이용하는 \n",
    " Exploit만 하겠다는 것도\n",
    " 지금 내가 과거 데이터를 기반으로 해서 Best라고 믿고 있었지만, 실은 더 좋은 색깔있을 수도 있는거니까\n",
    " \n",
    " -> 이 두가지 모두를 동시에 많이 할 수 는 없기 때문에,\n",
    " 우리는 이를  \"The Explore-Exploit Dilemma\"라고 함.\n",
    " 어떤 것을 얼마만큼 더 많이 하면 좋을지는 상황에 따라 달라지기 때문에,\n",
    " 단순히 A/B test하는게 아니라\n",
    " \n",
    " \n",
    " ### A/B 테스트로 충분하지 않고 Bandit Algorithm이 필요한 이유\n",
    " A/B 테스트는 둘 중 뭐가 더 효과적인지 알아낼 때까지 실험을 지속하고,\n",
    " 뭐가 더 좋다! 라고 결론이 나면 \n",
    " 그것을 적용하고 이제, 더 좋지 않다고 결론 난 것에 대해서는 버려버려! 더 생각하지 않음.\n",
    " \n",
    " A/B test는  \n",
    " - ' IT jumps discretey from exploration into exploitation',\n",
    " - ' During the purely exploratory phase, it wastes resources exploring inferior options in order to gather as much data as possible'\n",
    " 의 두가지 문제점\n",
    " \n",
    " (즉 explore 짧게 한걸로 평생 exploit한다는 것인데, 이는 **세상이 변하지 않는다**는 가정한것,\n",
    " 하지만, 세상은 늘 변함.)\n",
    "\n",
    "-> Bandit Algorithm은 이 두 문제를 다룸.\n",
    "exploration 하는 비율을 smoothly하게 줄이고, explore할 때 더 좋은 optiopn에 대해서 집중함"
   ]
  },
  {
   "cell_type": "markdown",
   "id": "9f5ebe25",
   "metadata": {
    "papermill": {
     "duration": 0.010467,
     "end_time": "2022-08-08T00:03:37.722609",
     "exception": false,
     "start_time": "2022-08-08T00:03:37.712142",
     "status": "completed"
    },
    "tags": []
   },
   "source": [
    "## Chapter3. The epsilon-Greedy Algorithm\n",
    "### Introduction.\n",
    "컴퓨터 사이언스 : Greedy Algorithm _ 무조건 현재에서 최상의 선택을 하는 option을 구하자!\n",
    "\n",
    "\n",
    "하지만,\n",
    "더 좋은 option이 있을지도 모르니까\n",
    "$\\epsilon$ 만큼 확률 ( algorithm이 exploiting하는 대신 exploration하는 확률)로는 explore하자!\n",
    "\n",
    "방법은 단순!\n",
    "동전을 던져서 (Bernoulli Distribution) \n",
    "\n",
    "- 앞면이 나오면 (앞 면이 나올 확률은 $\\epsilon$), 랜덤하게 explore,\n",
    "- 뒷면이 나오면 (뒷 면이 나올 확률은 $1-\\epsilon$), 과거의 데이터 이용해서 성공 확률이 가장 높은 것을 선택\n",
    "\n",
    "### Jargon\n",
    "#### arm은 선택할 수 있는 option을 지칭!\n",
    "we assume that we have a fixed set of N different options and that we can enumerate them.\n",
    "\n",
    "option1, $\\cdots$, option N\n",
    "\n",
    "#### reward는 성공을 measure하는 값\n",
    "reward is  simply a measure of success\n",
    "\n",
    "예를 들어 고객들이 클릭을 하는지 안하는지,\n",
    "등록을 하는지 안하는지 여부로 정의 가능\n",
    "\n",
    "reward는 반드시 \n",
    "- quantitative 해서 수학적으로 track가능한 값이어야 하고,\n",
    "- 작은 값보다 reward가 큰 것이 better\n",
    "\n",
    "\n",
    "### Bandt Problem\n",
    "- a bandit which has a set of N arms =  N개의 옵션이 있는 문제\n",
    "- 하나의 옵션(pull any give arm)을 선택하면, 그에 따른 보상(reward)가 있다. (하지만 우리는 이 reward의 분포를 모름. riscky)\n",
    "- we do NOT start off kwing what the reward rates are for any of the arms. -> 이 값을 유추하기 위해서 arm들 당겨보는 것!\n",
    "\n",
    "우리가 하고 싶은건 가장 큰 reward 평균 값을 가지는 arm을 알아내고 싶음 \n",
    "But, 문제는 reward에 대한 정보가 너무 부족\n",
    "1) partial feedback문제 : 당겨본 arm에 대한 정보만 가지고 있지, 그 arm댕기느라 선택하지 못한 다른 arm에 대한 정보는 없음\n",
    "\n",
    "2) falling bhind문제 : 매번 best option을 뽑지 못하니까 lose reward -> 우리는 더 나은 arm 땡길수도 있었는데...\n",
    "\n",
    "\n",
    "### 즉 MAP (Multi Armed Bandit) 이란,\n",
    "- 정확한 승률을 알지 못하는 여러대의 slot machines을 가지고 도박을 할 때, 가장 많은 돈을 따고 싶지만 각 slot 마다 Reward확률 이다르고 어떤 slot의 reward가 가장 큰지 알지 못함.\n",
    "- 이런 상황에서 \" 어떤 순서로 어떤 slot을 얼마만큼 당겨야 가장 많은 reward (cumulative reward) 를 얻을 것인가\"의 문제!\n"
   ]
  },
  {
   "cell_type": "markdown",
   "id": "86dbeea9",
   "metadata": {
    "papermill": {
     "duration": 0.010415,
     "end_time": "2022-08-08T00:03:37.743772",
     "exception": false,
     "start_time": "2022-08-08T00:03:37.733357",
     "status": "completed"
    },
    "tags": []
   },
   "source": [
    "## Greedy Algorithm\n",
    "- 모든 slot machine 한번씩 play하고 reward가장 좋은 쪽을 exploit\n",
    "- 하지만 충분한 탐색이 이루어지지 않는다는 점\n",
    "\n",
    "## Epilon Greedy Algorithm\n",
    "- 1 - $\\epsilon$ 확률로는 exploitation\n",
    "-$\\epsilon$만큼은 exploration\n",
    "\n",
    "-> epsilon 모수가 eploration&exploitation trade-off를 조절 : 만약 이 값이 크면 explore 많이 하는것\n"
   ]
  },
  {
   "cell_type": "code",
   "execution_count": 1,
   "id": "006ff1e2",
   "metadata": {
    "execution": {
     "iopub.execute_input": "2022-08-08T00:03:37.768114Z",
     "iopub.status.busy": "2022-08-08T00:03:37.767153Z",
     "iopub.status.idle": "2022-08-08T00:03:43.038428Z",
     "shell.execute_reply": "2022-08-08T00:03:43.037336Z"
    },
    "papermill": {
     "duration": 5.286119,
     "end_time": "2022-08-08T00:03:43.041187",
     "exception": false,
     "start_time": "2022-08-08T00:03:37.755068",
     "status": "completed"
    },
    "tags": []
   },
   "outputs": [],
   "source": [
    "import tensorflow as tf\n",
    "import numpy as np\n",
    "import random"
   ]
  },
  {
   "cell_type": "code",
   "execution_count": 2,
   "id": "4906862d",
   "metadata": {
    "execution": {
     "iopub.execute_input": "2022-08-08T00:03:43.065802Z",
     "iopub.status.busy": "2022-08-08T00:03:43.064688Z",
     "iopub.status.idle": "2022-08-08T00:03:43.069721Z",
     "shell.execute_reply": "2022-08-08T00:03:43.068986Z"
    },
    "papermill": {
     "duration": 0.018852,
     "end_time": "2022-08-08T00:03:43.071940",
     "exception": false,
     "start_time": "2022-08-08T00:03:43.053088",
     "status": "completed"
    },
    "tags": []
   },
   "outputs": [],
   "source": [
    "import random\n",
    "#arm의 갯수만큼 형성된 list 넣어주면, list에서 가장 큰 값을 고르고 그 index값 반환.\n",
    "def ind_max(x):\n",
    "    m = max(x)\n",
    "    return x.index(m)"
   ]
  },
  {
   "cell_type": "code",
   "execution_count": 3,
   "id": "e947bd76",
   "metadata": {
    "execution": {
     "iopub.execute_input": "2022-08-08T00:03:43.094813Z",
     "iopub.status.busy": "2022-08-08T00:03:43.094147Z",
     "iopub.status.idle": "2022-08-08T00:03:43.104936Z",
     "shell.execute_reply": "2022-08-08T00:03:43.104050Z"
    },
    "papermill": {
     "duration": 0.02456,
     "end_time": "2022-08-08T00:03:43.106999",
     "exception": false,
     "start_time": "2022-08-08T00:03:43.082439",
     "status": "completed"
    },
    "tags": []
   },
   "outputs": [],
   "source": [
    "# 설계\n",
    "# epsilon : a floating point number that tells us the frequency with which we should explore one of the available arms.\n",
    "# set epsilon = 0.1\n",
    "\n",
    "# counts : a vector of inteers of length N ( 각 arm을 몇번 당겼는지 담긴 벡터. 길이는 arm만큼이니까 N)\n",
    "# 이 예제에서는 Arm !, Arm 2 2개가 있고 각각 2번씩만 당겼으니까\n",
    "# counts = [2,2]\n",
    "\n",
    "# values : a verctor of floating point numbers \n",
    "#               that defines the average amount of reward we've gotten when playing N arms available to us.\n",
    "# 즉 보상의 평균, Arm 1 이 2번 당겼을 때 각각 1,0의 output을 내고, Arm 2rk 0,0의 output을 내면,\n",
    "# values = [0.5,0.0]\n",
    "import random\n",
    "\n",
    "#Epsilon Greedy 클래스 정의\n",
    "class EpsilonGreedy():\n",
    "    def __init__(self,epsilon,counts,values):\n",
    "        self.epsilon = epsilon\n",
    "        self.counts = counts\n",
    "        self.values = values\n",
    "        return\n",
    "    \n",
    "    # provide explicit initialization method \n",
    "    #_counts, values변수를 알고리즘 돌아가기전 적절한 blank slate states로 리셋하는 함수\n",
    "    def initialize(self,n_arms):\n",
    "        self.counts = [0 for col in range(n_arms)]\n",
    "        self.values = [0.0 for col in range(n_arms)]\n",
    "        return\n",
    "\n",
    "\n",
    "    # select_arm 함수\n",
    "    # arm을 당기는 선택을 할 때 부르는 함수_ 당겨야 할 다음 arm의 index번호를 호출\n",
    "    # 아무 argument 없이 부르고, \n",
    "    # return : index of the next arm to pull\n",
    "\n",
    "\n",
    "    def select_arm(self):\n",
    "        if random.random() > self.epsilon: # 0 이상 1 미만의 숫자반환->클래스에서 정의된 episilon값보다 큰 값이 나오면,\n",
    "            return ind_max(self.values) # 지금 가지고 있는 values(reward의 평균)이 가장 큰 곳의 index뽑아 return\n",
    "        else:\n",
    "            return random.randrange(len(self.values)) #explore 탐색_ select the arm completely random_0~arm숫자 랜덤하게 index반환\n",
    "        \n",
    "\n",
    "    # upate 함수\n",
    "    # arm을 당기고 나면 reward를 얻는데, 이를 업데이터 해줘야해.\n",
    "    # input인자로는 alogirithm object, 방금 당긴 arm의 index, 방금 당긴 arm에 대한 reward\n",
    "    def update(self, chosen_arm, reward):\n",
    "        self.counts[chosen_arm] = self.counts[chosen_arm] + 1 #그 arm을 당긴 횟수를 저장하는 count값을 하나 올려줌\n",
    "        n = self.counts[chosen_arm]\n",
    "    \n",
    "        value = self.values[chosen_arm]\n",
    "        new_value = ((n-1)/float(n))*value + (1/float(n)) * reward #그 arm을 당긴 보상의 평균을 구하기\n",
    "        self.values[chosen_arm] = new_value #그 arm을 당긴 보상의 평균을 구한값 그 인덱스에 맞게 넣어주기\n",
    "        return\n",
    "\n",
    "    #추후에는 평균을 구하는게 아니라, average onine을 계산하기 위해서 alternative weighting scheme을 이용할 것임."
   ]
  },
  {
   "cell_type": "markdown",
   "id": "892aa6d3",
   "metadata": {
    "papermill": {
     "duration": 0.010383,
     "end_time": "2022-08-08T00:03:43.128000",
     "exception": false,
     "start_time": "2022-08-08T00:03:43.117617",
     "status": "completed"
    },
    "tags": []
   },
   "source": [
    "### epsilon 결정하기_epsilon greedy의 한계점\n",
    "- $\\epsilon$ = 1.0이라면, 늘 완전히 random 하게 option을 선택. -> waste source acquiring data aoubt bad options\n",
    "- $\\epsilon$ = 0.0이라면, 가장 average reward높게 나온 option을 계속 당김 -> 새로운 것을 탐색할 수 없음.\n",
    "\n",
    "하지만 epsilon greedy algorithm은 \n",
    "- 최적 slot machine 찾은 후에도 계속해서 epsilon만큼은 랜덤하게 막 탐색한다는 한계점이 있다.\n",
    "- 입실론 만큼 확률로 sub optimal 한 나머지 slot machine을 무작위로 뽑아서, 전체 슬롯 머신 중 탐색하지 못하거나, 혹은 탐색을 덜해서 정보를 얻지 못한 슬롯 머신이 생길 가능성이큼.\n",
    "\n",
    "이를 보완하기 위해서 나온 알고리즘이 softmax!\n",
    "\n",
    "그 전에, 먼저 **Monte Carlo simulation**으로 random number generator사용해서 simulation해.\n"
   ]
  },
  {
   "cell_type": "markdown",
   "id": "a79442d2",
   "metadata": {
    "papermill": {
     "duration": 0.010321,
     "end_time": "2022-08-08T00:03:43.148805",
     "exception": false,
     "start_time": "2022-08-08T00:03:43.138484",
     "status": "completed"
    },
    "tags": []
   },
   "source": [
    "## CHAPTER4. Debugging Bandit Algorithms\n",
    "\n",
    "### Monte Carlo Simulations ARe Like Unit Tests for Bandit Algorithms\n",
    "\n",
    "bandit 알고리즘은 T시점에 select_arm()하면 그에 대한 reward가 있어서 update가 되야함.\n",
    "\n",
    "따라서 그냥 평균을 업데이트 하는 방법 대신, **Monte Carlo simulation 방법**을 택함.\n",
    "\n",
    "-> 2개이의 코드 짤 것임\n",
    "\n",
    "이 두 개의 코드가 함께 실제 상황에서 이 알고리즘이 어떻게 구현되는지 보여줌\n",
    "- bandit algorithm\n",
    "- a simulation of the bandit's arms that the algorithm as to select between\n",
    "\n",
    "simulation은 random number에 의해 돌아가므로 noise가 있음.\n",
    "-> 따라서 여러번 돌려서 develop an intuition for its behavior in different settins.\n",
    "\n",
    "\n",
    "### Simulating the Arms of a Bandit Problem\n",
    "hypothetical arm이 필요함\n",
    "보상이 click throughs ro user signups같은 0/1 문제일 때\n",
    "\n",
    "-> 우리는 이런 상황을 **\"a Bernoulli Arm\"** 이라고 부름"
   ]
  },
  {
   "cell_type": "markdown",
   "id": "d8479aad",
   "metadata": {
    "papermill": {
     "duration": 0.010246,
     "end_time": "2022-08-08T00:03:43.169472",
     "exception": false,
     "start_time": "2022-08-08T00:03:43.159226",
     "status": "completed"
    },
    "tags": []
   },
   "source": [
    "### 여러 Arm들 _ in here, I use Bernoulli arm\n",
    "- Bernoulli\n",
    "- Adversarial\n",
    "- normal"
   ]
  },
  {
   "cell_type": "code",
   "execution_count": 4,
   "id": "ddd2b5fa",
   "metadata": {
    "execution": {
     "iopub.execute_input": "2022-08-08T00:03:43.193042Z",
     "iopub.status.busy": "2022-08-08T00:03:43.192272Z",
     "iopub.status.idle": "2022-08-08T00:03:43.197929Z",
     "shell.execute_reply": "2022-08-08T00:03:43.196984Z"
    },
    "papermill": {
     "duration": 0.020123,
     "end_time": "2022-08-08T00:03:43.200299",
     "exception": false,
     "start_time": "2022-08-08T00:03:43.180176",
     "status": "completed"
    },
    "tags": []
   },
   "outputs": [],
   "source": [
    "# Bernoulli Arm\n",
    "# p확률만큼 성공을 reward로 줌.\n",
    "class BernoulliArm():\n",
    "    def __init__(self, p): # p는 arm으로 부터 1의 reward를 얻을 확률을 의미.\n",
    "        self.p = p\n",
    "  \n",
    "    def draw(self):\n",
    "        if random.random() > self.p:\n",
    "            return 0.0\n",
    "        else:\n",
    "            return 1.0"
   ]
  },
  {
   "cell_type": "code",
   "execution_count": 5,
   "id": "9a8131e0",
   "metadata": {
    "execution": {
     "iopub.execute_input": "2022-08-08T00:03:43.224528Z",
     "iopub.status.busy": "2022-08-08T00:03:43.223822Z",
     "iopub.status.idle": "2022-08-08T00:03:43.230139Z",
     "shell.execute_reply": "2022-08-08T00:03:43.229003Z"
    },
    "papermill": {
     "duration": 0.021211,
     "end_time": "2022-08-08T00:03:43.232603",
     "exception": false,
     "start_time": "2022-08-08T00:03:43.211392",
     "status": "completed"
    },
    "tags": []
   },
   "outputs": [],
   "source": [
    "# AdversarialArm\n",
    "class AdversarialArm():\n",
    "    def __init__(self, t, active_start, active_end):\n",
    "        self.t = t\n",
    "        self.active_start = active_start\n",
    "        self.active_end = active_end\n",
    "  \n",
    "    def draw(self):\n",
    "        self.t = self.t + 1\n",
    "        if self.active_start <= self.t <= self.active_end:\n",
    "            return 1.0\n",
    "        else:\n",
    "            return 0.0"
   ]
  },
  {
   "cell_type": "code",
   "execution_count": 6,
   "id": "9bac2628",
   "metadata": {
    "execution": {
     "iopub.execute_input": "2022-08-08T00:03:43.256465Z",
     "iopub.status.busy": "2022-08-08T00:03:43.255747Z",
     "iopub.status.idle": "2022-08-08T00:03:43.261364Z",
     "shell.execute_reply": "2022-08-08T00:03:43.260529Z"
    },
    "papermill": {
     "duration": 0.020149,
     "end_time": "2022-08-08T00:03:43.263685",
     "exception": false,
     "start_time": "2022-08-08T00:03:43.243536",
     "status": "completed"
    },
    "tags": []
   },
   "outputs": [],
   "source": [
    "# NormalArm\n",
    "import random\n",
    "\n",
    "class NormalArm():\n",
    "    def __init__(self, mu, sigma):\n",
    "        self.mu = mu\n",
    "        self.sigma = sigma\n",
    "  \n",
    "    def draw(self):\n",
    "        return random.gauss(self.mu, self.sigma)"
   ]
  },
  {
   "cell_type": "markdown",
   "id": "27cdf793",
   "metadata": {
    "papermill": {
     "duration": 0.011063,
     "end_time": "2022-08-08T00:03:43.285651",
     "exception": false,
     "start_time": "2022-08-08T00:03:43.274588",
     "status": "completed"
    },
    "tags": []
   },
   "source": [
    "### test_algorithm"
   ]
  },
  {
   "cell_type": "code",
   "execution_count": 7,
   "id": "ceee074b",
   "metadata": {
    "execution": {
     "iopub.execute_input": "2022-08-08T00:03:43.309306Z",
     "iopub.status.busy": "2022-08-08T00:03:43.308584Z",
     "iopub.status.idle": "2022-08-08T00:03:43.318084Z",
     "shell.execute_reply": "2022-08-08T00:03:43.317314Z"
    },
    "papermill": {
     "duration": 0.024181,
     "end_time": "2022-08-08T00:03:43.320632",
     "exception": false,
     "start_time": "2022-08-08T00:03:43.296451",
     "status": "completed"
    },
    "tags": []
   },
   "outputs": [],
   "source": [
    "# core infrastructure and testing framework\n",
    "# initialize the bandit algorithm's setting from scratch \n",
    "#                             -> no prior knowledge about which arm is best.\n",
    "\n",
    "def test_algorithm(algo, arms, num_sims, horizon):\n",
    "    chosen_arms = [0.0 for i in range(num_sims * horizon)]\n",
    "    rewards = [0.0 for i in range(num_sims * horizon)]\n",
    "    cumulative_rewards = [0.0 for i in range(num_sims * horizon)]\n",
    "    sim_nums = [0.0 for i in range(num_sims * horizon)]\n",
    "    times = [0.0 for i in range(num_sims * horizon)]\n",
    "  \n",
    "    for sim in range(num_sims):\n",
    "        sim = sim + 1\n",
    "        algo.initialize(len(arms))\n",
    "    \n",
    "    for t in range(horizon): # 이제 pull arm\n",
    "        t = t + 1\n",
    "        index = (sim - 1) * horizon + t - 1\n",
    "        sim_nums[index] = sim\n",
    "        times[index] = t\n",
    "      \n",
    "        # select the arm_ 당겨야 할 다음 arm의 index번호를 호출\n",
    "        chosen_arm = algo.select_arm() \n",
    "        chosen_arms[index] = chosen_arm\n",
    "      \n",
    "        # 당겼을 때 reward 여기선 0 or 1\n",
    "        reward = arms[chosen_arms[index]].draw()\n",
    "        rewards[index] = reward\n",
    "      \n",
    "        # update cumulative reward _ 처음 당길 때 제외하고는 그전 값에 이번 reward 더해가면서\n",
    "        if t == 1:\n",
    "            cumulative_rewards[index] = reward\n",
    "        else:\n",
    "            cumulative_rewards[index] = cumulative_rewards[index - 1] + reward\n",
    "      \n",
    "        algo.update(chosen_arm, reward)\n",
    "  \n",
    "    return [sim_nums, times, chosen_arms, rewards, cumulative_rewards]"
   ]
  },
  {
   "cell_type": "code",
   "execution_count": 8,
   "id": "56b6c0e8",
   "metadata": {
    "execution": {
     "iopub.execute_input": "2022-08-08T00:03:43.345052Z",
     "iopub.status.busy": "2022-08-08T00:03:43.344392Z",
     "iopub.status.idle": "2022-08-08T00:04:06.593399Z",
     "shell.execute_reply": "2022-08-08T00:04:06.592223Z"
    },
    "papermill": {
     "duration": 23.264779,
     "end_time": "2022-08-08T00:04:06.596540",
     "exception": false,
     "start_time": "2022-08-08T00:03:43.331761",
     "status": "completed"
    },
    "tags": []
   },
   "outputs": [
    {
     "name": "stdout",
     "output_type": "stream",
     "text": [
      "[<__main__.BernoulliArm object at 0x7fd4925a0750>, <__main__.BernoulliArm object at 0x7fd4925a0810>, <__main__.BernoulliArm object at 0x7fd4925a0850>, <__main__.BernoulliArm object at 0x7fd4925a0890>, <__main__.BernoulliArm object at 0x7fd4925a08d0>]\n",
      "Best arm is 2\n"
     ]
    }
   ],
   "source": [
    "#execfile(\"core.py\")\n",
    "\n",
    "import random\n",
    "\n",
    "random.seed(1)\n",
    "\n",
    "# set up an array of Arm objects\n",
    "means = [0.1, 0.1, 0.1, 0.1, 0.9] # 5개의 arm 생성. 4개는 0.1 reward, 1개는 0.9 reward.\n",
    "n_arms = len(means)\n",
    "random.shuffle(means)\n",
    "arms = list(map(lambda mu: BernoulliArm(mu), means))\n",
    "print(arms)\n",
    "print(\"Best arm is \" + str(ind_max(means)))\n",
    "\n",
    "f = open(\"D:\\coding\\bandit\\algorithms\\epsilon_greedy\\standard_results.tsv\", \"w\")\n",
    "\n",
    "for epsilon in [0.1, 0.2, 0.3, 0.4, 0.5]:\n",
    "    algo = EpsilonGreedy(epsilon, [], [])\n",
    "    algo.initialize(n_arms)\n",
    "    results = test_algorithm(algo, arms, 5000, 250)\n",
    "    for i in range(len(results[0])):\n",
    "        f.write(str(epsilon) + \"\\t\")\n",
    "        f.write(\"\\t\".join([str(results[j][i]) for j in range(len(results))]) + \"\\n\")\n",
    "\n",
    "f.close()"
   ]
  },
  {
   "cell_type": "markdown",
   "id": "221f4506",
   "metadata": {
    "papermill": {
     "duration": 0.010404,
     "end_time": "2022-08-08T00:04:06.618061",
     "exception": false,
     "start_time": "2022-08-08T00:04:06.607657",
     "status": "completed"
    },
    "tags": []
   },
   "source": [
    "\n"
   ]
  },
  {
   "cell_type": "markdown",
   "id": "310ea01d",
   "metadata": {
    "papermill": {
     "duration": 0.010267,
     "end_time": "2022-08-08T00:04:06.638910",
     "exception": false,
     "start_time": "2022-08-08T00:04:06.628643",
     "status": "completed"
    },
    "tags": []
   },
   "source": [
    "### 참고 책에 없음 _ annealing"
   ]
  },
  {
   "cell_type": "code",
   "execution_count": 9,
   "id": "b34950a9",
   "metadata": {
    "execution": {
     "iopub.execute_input": "2022-08-08T00:04:06.662165Z",
     "iopub.status.busy": "2022-08-08T00:04:06.661425Z",
     "iopub.status.idle": "2022-08-08T00:04:06.671771Z",
     "shell.execute_reply": "2022-08-08T00:04:06.670778Z"
    },
    "papermill": {
     "duration": 0.024515,
     "end_time": "2022-08-08T00:04:06.673992",
     "exception": false,
     "start_time": "2022-08-08T00:04:06.649477",
     "status": "completed"
    },
    "tags": []
   },
   "outputs": [],
   "source": [
    "#annealing\n",
    "import random\n",
    "import math\n",
    "\n",
    "def ind_max(x):\n",
    "    m = max(x)\n",
    "    return x.index(m)\n",
    "\n",
    "class AnnealingEpsilonGreedy():\n",
    "    def __init__(self, counts, values):\n",
    "        self.counts = counts\n",
    "        self.values = values\n",
    "        return\n",
    "    \n",
    "    def initialize(self, n_arms):\n",
    "        self.counts = [0 for col in range(n_arms)]\n",
    "        self.values = [0.0 for col in range(n_arms)]\n",
    "        return\n",
    "    \n",
    "    def select_arm(self):\n",
    "        t = sum(self.counts) + 1 #지금까지 arm을 당긴 횟수\n",
    "        epsilon = 1 / math.log(t + 0.0000001) #조금씩 epsilon을 줄여가면서\n",
    "        \n",
    "        if random.random() > epsilon:\n",
    "            return ind_max(self.values)\n",
    "        else:\n",
    "            return random.randrange(len(self.values))\n",
    "    \n",
    "    def update(self, chosen_arm, reward):\n",
    "        self.counts[chosen_arm] = self.counts[chosen_arm] + 1\n",
    "        n = self.counts[chosen_arm]\n",
    "        \n",
    "        value = self.values[chosen_arm]\n",
    "        new_value = ((n - 1) / float(n)) * value + (1 / float(n)) * reward\n",
    "        self.values[chosen_arm] = new_value\n",
    "        return"
   ]
  },
  {
   "cell_type": "code",
   "execution_count": 10,
   "id": "e5217a65",
   "metadata": {
    "execution": {
     "iopub.execute_input": "2022-08-08T00:04:06.697505Z",
     "iopub.status.busy": "2022-08-08T00:04:06.696748Z",
     "iopub.status.idle": "2022-08-08T00:04:10.478277Z",
     "shell.execute_reply": "2022-08-08T00:04:10.477251Z"
    },
    "papermill": {
     "duration": 3.796203,
     "end_time": "2022-08-08T00:04:10.480925",
     "exception": false,
     "start_time": "2022-08-08T00:04:06.684722",
     "status": "completed"
    },
    "tags": []
   },
   "outputs": [
    {
     "name": "stdout",
     "output_type": "stream",
     "text": [
      "Best arm is 2\n"
     ]
    }
   ],
   "source": [
    "import random\n",
    "\n",
    "random.seed(1)\n",
    "means = [0.1, 0.1, 0.1, 0.1, 0.9]\n",
    "n_arms = len(means)\n",
    "random.shuffle(means)\n",
    "arms = list(map(lambda mu: BernoulliArm(mu), means))\n",
    "print(\"Best arm is \" + str(ind_max(means)))\n",
    "\n",
    "my_algo = AnnealingEpsilonGreedy([], [])\n",
    "my_algo.initialize(n_arms)\n",
    "results = test_algorithm(my_algo, arms, 5000, 250)\n",
    "\n",
    "f = open(\"D:\\coding\\bandit\\algorithms\\epsilon_greedy\\annealing_results.tsv\", \"w\")\n",
    "for i in range(len(results[0])):\n",
    "    f.write(\"\\t\".join([str(results[j][i]) for j in range(len(results))]) + \"\\n\")\n",
    "\n",
    "f.close()"
   ]
  },
  {
   "cell_type": "markdown",
   "id": "96d8e481",
   "metadata": {
    "papermill": {
     "duration": 0.010381,
     "end_time": "2022-08-08T00:04:10.502208",
     "exception": false,
     "start_time": "2022-08-08T00:04:10.491827",
     "status": "completed"
    },
    "tags": []
   },
   "source": [
    "# CHAPTER 5. The Softmax Algorithm"
   ]
  },
  {
   "cell_type": "markdown",
   "id": "edea9c66",
   "metadata": {
    "papermill": {
     "duration": 0.010229,
     "end_time": "2022-08-08T00:04:10.523123",
     "exception": false,
     "start_time": "2022-08-08T00:04:10.512894",
     "status": "completed"
    },
    "tags": []
   },
   "source": [
    "MAB 알고리즘 중 하나인 Softmax 알고리즘은\n",
    "각 슬롯머신의 관측된 보상 획득률에 비례하는 확\n",
    "률로 다음에 시행할 슬롯머신을 선택한다. 시행 전\n",
    "에 온도($\\tau$)라고 불리는 변수를 직접 설정해주어야\n",
    "하며 $\\tau$값이 높을수록 탐색단계 비중이 높은 알고\n",
    "리즘이 되고, $\\tau$값이 낮을수록 활용단계 비중이 높은\n",
    "알고리즘이 된다. 따라서 초기 시행에는 $\\tau$값을 높여\n",
    "탐색을 진행하고 이후 $\\tau$값을 낮춰 활용단계로 전환\n",
    "하는 방식으로 Softmax 알고리즘을 사용하게 된다. 하지만 알맞은 초기 $\\tau$값과 목표 $\\tau$값의 수치, 초기 $\\tau$값에서 목표 $\\tau$값까지 변화하는 정도를 결정하기\n",
    "어렵다는 단점이 존재한다"
   ]
  },
  {
   "cell_type": "markdown",
   "id": "6dcc0b49",
   "metadata": {
    "papermill": {
     "duration": 0.0102,
     "end_time": "2022-08-08T00:04:10.543903",
     "exception": false,
     "start_time": "2022-08-08T00:04:10.533703",
     "status": "completed"
    },
    "tags": []
   },
   "source": [
    "## Introduction the Softmax Alorithm\n",
    "\n",
    "위에서 언급했듯이,\n",
    "입실론 방법에서는 2가지 단점이 존재\n",
    "\n",
    "- 만약 두개의 보상률의 차이가 작다면 (예를들어 $\\epsilon= 0.1$일 때) , 10%의 확률로 explore하는 것은 무엇이 더 좋은 arm인지 찾기에 너무 적음. 더 많이 탐색해야함.\n",
    "- 반대로, 만약 보상률의 차이가 확연하다면, 결국 더 좋지 않은 arm을 탐색하는 비율도 같으니까 시간 낭비!\n",
    "\n",
    "\n",
    "따라서 우리는 **haphazard exploration**이 아닌, **structured explration**이 필요함.\n",
    "\n",
    "그 중 하나가 **softmax algorithm**\n",
    "\n",
    "Softmax Algorithm 을 먼저 쉽게 이해하기 위해서,\n",
    "**추정값에 비례**해서 arm을 선택한다고 생각해보자.\n",
    "\n",
    "예를 들어서 arm A, arm B가 있을 때,\n",
    "두 개의 성공 확률(즉 보상을 받을 확률)이 각각 rA, rB라면,\n",
    "Arm A는 rA / (rA + rB)의 확률로, Arm A는 rB / (rA + rB)의 확률로 선택하는 것이다"
   ]
  },
  {
   "cell_type": "markdown",
   "id": "e2b60dbc",
   "metadata": {
    "papermill": {
     "duration": 0.010389,
     "end_time": "2022-08-08T00:04:10.564978",
     "exception": false,
     "start_time": "2022-08-08T00:04:10.554589",
     "status": "completed"
    },
    "tags": []
   },
   "source": [
    "## Implementing the Softmax Algorithm\n",
    "\n",
    "하지만 우리가 쓰는 알고리즘은 이렇게 간단하지는 않음.\n",
    "\n",
    "2가지를 바꿔야함.\n",
    "\n",
    "1) calculate a different scale for reward rates by exponentiating our estimates of rA and rB,\n",
    "  \n",
    "  - Arm A는 $\\exp(rA) / (\\exp(rA)+ \\exp(rB))$의 확률로, \n",
    "  \n",
    "  - Arm A는 $\\exp(rB) / (\\exp(rA)+ \\exp(rB))$의 확률로 선택\n",
    "  \n",
    "  \n",
    "2) temperatur parameter $\\tau$\n",
    "\n",
    " - Arm A는 $\\exp(rA/\\tau) / (\\exp(rA/\\tau)+ \\exp(rB/\\tau))$의 확률로, \n",
    "\n",
    " - Arm A는 $\\exp(rB/\\tau) / (\\exp(rA/\\tau)+ \\exp(rB/\\tau))$의 확률로 선택"
   ]
  },
  {
   "cell_type": "markdown",
   "id": "1195bc5a",
   "metadata": {
    "papermill": {
     "duration": 0.010203,
     "end_time": "2022-08-08T00:04:10.585885",
     "exception": false,
     "start_time": "2022-08-08T00:04:10.575682",
     "status": "completed"
    },
    "tags": []
   },
   "source": [
    "### tau의 역할\n",
    "tau는 slotmachine을 선택하는 극단적인 방법으로 정의되는 continuum을 따라서 softmax 알고리즘의 동작을 이동하게함.\n",
    "\n",
    "예를 들어 \n",
    "- $\\tau = 0.0$이라면, 추정치가 가장 높은 slotmachine 선택 ( fully deterministic )\n",
    "\n",
    "- $\\tau = \\infty$이라면, 입실론 그리디 알고리즘과 같음 ( fully randomly selected )\n",
    "\n",
    "따라서 reward가 좋은 쪽으로 얼마나 더 뽑을 확률을 줄것인지를 tau가 결정하게 함.\n",
    "\n",
    "\n",
    "> 예를 들어 arm들의 reward 간에 clear difference 있을 때\n",
    "\n",
    "                  (책에서는 0.1, 0.1, 0.1, 0.1, 0.9),\n",
    "\n",
    "     tau가 0.1이라도 처음부터 좋은 성과 냄. ( explore 많이 할 필요 없음. 확연하니까 )"
   ]
  },
  {
   "cell_type": "code",
   "execution_count": 11,
   "id": "691aa4aa",
   "metadata": {
    "execution": {
     "iopub.execute_input": "2022-08-08T00:04:10.608942Z",
     "iopub.status.busy": "2022-08-08T00:04:10.608572Z",
     "iopub.status.idle": "2022-08-08T00:04:10.650279Z",
     "shell.execute_reply": "2022-08-08T00:04:10.649332Z"
    },
    "papermill": {
     "duration": 0.055832,
     "end_time": "2022-08-08T00:04:10.652355",
     "exception": false,
     "start_time": "2022-08-08T00:04:10.596523",
     "status": "completed"
    },
    "tags": []
   },
   "outputs": [],
   "source": [
    "#softmax/standard.py\n",
    "import math\n",
    "import random\n",
    "\n",
    "def categorical_draw(probs): #이게 어떻게 보상의 확률로 비례해서 당길 arm의 index를 주는건지 모르겠음.\n",
    "    z = random.random()\n",
    "    cum_prob = 0.0\n",
    "    for i in range(len(probs)):\n",
    "        prob = probs[i]\n",
    "        cum_prob += prob\n",
    "        if cum_prob > z:\n",
    "            return i\n",
    "  \n",
    "    return len(probs) - 1\n",
    "\n",
    "class Softmax:\n",
    "    def __init__(self, temperature, counts, values):\n",
    "        self.temperature = temperature\n",
    "        self.counts = counts\n",
    "        self.values = values\n",
    "        return\n",
    "  \n",
    "    def initialize(self, n_arms):\n",
    "        self.counts = [0 for col in range(n_arms)]\n",
    "        self.values = [0.0 for col in range(n_arms)]\n",
    "        return\n",
    "  \n",
    "    def select_arm(self):\n",
    "        # z : 보상을 tau로 나누고 rescale한 것의 합. 위 예에서는 (\\exp(rA/\\tau)+ \\exp(rB/\\tau))\n",
    "        z = sum([math.exp(v / self.temperature) for v in self.values])\n",
    "        \n",
    "        # 위에서 구한 보상의 rescaling들의 합을 분모로, 각각 보상 rescal한것을 분자로 하여 list생성.\n",
    "        probs = [math.exp(v / self.temperature) / z for v in self.values]\n",
    "        return categorical_draw(probs)\n",
    "\n",
    "    def update(self, chosen_arm, reward):\n",
    "        self.counts[chosen_arm] = self.counts[chosen_arm] + 1\n",
    "        n = self.counts[chosen_arm]\n",
    "    \n",
    "        value = self.values[chosen_arm]\n",
    "        new_value = ((n - 1) / float(n)) * value + (1 / float(n)) * reward\n",
    "        self.values[chosen_arm] = new_value\n",
    "        return"
   ]
  },
  {
   "cell_type": "code",
   "execution_count": 12,
   "id": "7de56d8a",
   "metadata": {
    "execution": {
     "iopub.execute_input": "2022-08-08T00:04:10.675337Z",
     "iopub.status.busy": "2022-08-08T00:04:10.674915Z",
     "iopub.status.idle": "2022-08-08T00:04:33.931746Z",
     "shell.execute_reply": "2022-08-08T00:04:33.930615Z"
    },
    "papermill": {
     "duration": 23.271624,
     "end_time": "2022-08-08T00:04:33.934656",
     "exception": false,
     "start_time": "2022-08-08T00:04:10.663032",
     "status": "completed"
    },
    "tags": []
   },
   "outputs": [
    {
     "name": "stdout",
     "output_type": "stream",
     "text": [
      "Best arm is 2\n"
     ]
    }
   ],
   "source": [
    "# softmax/test_standard.py\n",
    "# tau값이 작을 수록 안정성이 높게 exploit하고 tau가 클수록 explore하니까\n",
    "# tau를 처음에는 크게 했다가 점점 작게 만들어 줌으로써 \n",
    "# 초반에는 탐색 - > 후반에는 exploit\n",
    "import random\n",
    "\n",
    "random.seed(1)\n",
    "means = [0.1, 0.1, 0.1, 0.1, 0.9]\n",
    "n_arms = len(means)\n",
    "random.shuffle(means)\n",
    "arms = list(map(lambda mu: BernoulliArm(mu), means))\n",
    "print(\"Best arm is \" + str(ind_max(means)))\n",
    "\n",
    "\n",
    "f = open(\"D:\\coding\\bandit\\algorithms\\softmax\\standard_softmax_results.tsv\", \"w\")\n",
    "\n",
    "for temperature in [0.1, 0.2, 0.3, 0.4, 0.5]:\n",
    "    algo = Softmax(temperature, [], [])\n",
    "    algo.initialize(n_arms)\n",
    "    results = test_algorithm(algo, arms, 5000, 250)\n",
    "    for i in range(len(results[0])):\n",
    "        f.write(str(temperature) + \"\\t\")\n",
    "        f.write(\"\\t\".join([str(results[j][i]) for j in range(len(results))]) + \"\\n\")\n",
    "\n",
    "f.close()"
   ]
  },
  {
   "cell_type": "markdown",
   "id": "f74485a8",
   "metadata": {
    "papermill": {
     "duration": 0.010346,
     "end_time": "2022-08-08T00:04:33.956051",
     "exception": false,
     "start_time": "2022-08-08T00:04:33.945705",
     "status": "completed"
    },
    "tags": []
   },
   "source": [
    "### Annealing이란\n",
    "- *annealing* is the process of decreasing the temperature in a Softmax algorithm over time.\n",
    "- *annealing* is a process of modifying a baindit algorithm's behavior so that it will explore less over time.\n",
    "\n",
    "즉 어닐링이란 시간이 흐르면서 온도 parameter인 tau의 값을 점점 줄여감으로써,\n",
    "\n",
    "탐색의 비율을 줄이고 exploit을 많이 하도록 한다."
   ]
  },
  {
   "cell_type": "code",
   "execution_count": 13,
   "id": "64e0e4d1",
   "metadata": {
    "execution": {
     "iopub.execute_input": "2022-08-08T00:04:33.979638Z",
     "iopub.status.busy": "2022-08-08T00:04:33.978876Z",
     "iopub.status.idle": "2022-08-08T00:04:33.990233Z",
     "shell.execute_reply": "2022-08-08T00:04:33.989400Z"
    },
    "papermill": {
     "duration": 0.025719,
     "end_time": "2022-08-08T00:04:33.992409",
     "exception": false,
     "start_time": "2022-08-08T00:04:33.966690",
     "status": "completed"
    },
    "tags": []
   },
   "outputs": [],
   "source": [
    "# softmax/annealing.py\n",
    "import math\n",
    "import random\n",
    "\n",
    "def categorical_draw(probs):\n",
    "    z = random.random()\n",
    "    cum_prob = 0.0\n",
    "    for i in range(len(probs)):\n",
    "        prob = probs[i]\n",
    "        cum_prob += prob\n",
    "        if cum_prob > z:\n",
    "            return i\n",
    "  \n",
    "    return len(probs) - 1\n",
    "\n",
    "class AnnealingSoftmax:\n",
    "    def __init__(self, counts, values):\n",
    "        self.counts = counts\n",
    "        self.values = values\n",
    "        return\n",
    "  \n",
    "    def initialize(self, n_arms):\n",
    "        self.counts = [0 for col in range(n_arms)]\n",
    "        self.values = [0.0 for col in range(n_arms)]\n",
    "        return\n",
    "  \n",
    "    def select_arm(self):\n",
    "        t = sum(self.counts) + 1\n",
    "        temperature = 1 / math.log(t + 0.0000001) #조금씩 tau 줄여가면서 ( exploit more )\n",
    "\n",
    "        z = sum([math.exp(v / temperature) for v in self.values])\n",
    "        probs = [math.exp(v / temperature) / z for v in self.values]\n",
    "        return categorical_draw(probs)\n",
    "\n",
    "    def update(self, chosen_arm, reward):\n",
    "        self.counts[chosen_arm] = self.counts[chosen_arm] + 1\n",
    "        n = self.counts[chosen_arm]\n",
    "    \n",
    "        value = self.values[chosen_arm]\n",
    "        new_value = ((n - 1) / float(n)) * value + (1 / float(n)) * reward\n",
    "        self.values[chosen_arm] = new_value\n",
    "        return"
   ]
  },
  {
   "cell_type": "code",
   "execution_count": 14,
   "id": "dc26a1da",
   "metadata": {
    "execution": {
     "iopub.execute_input": "2022-08-08T00:04:34.017105Z",
     "iopub.status.busy": "2022-08-08T00:04:34.016436Z",
     "iopub.status.idle": "2022-08-08T00:04:37.755271Z",
     "shell.execute_reply": "2022-08-08T00:04:37.754342Z"
    },
    "papermill": {
     "duration": 3.75407,
     "end_time": "2022-08-08T00:04:37.757818",
     "exception": false,
     "start_time": "2022-08-08T00:04:34.003748",
     "status": "completed"
    },
    "tags": []
   },
   "outputs": [
    {
     "name": "stdout",
     "output_type": "stream",
     "text": [
      "Best arm is 2\n"
     ]
    }
   ],
   "source": [
    "# softmax/test_annealing.py\n",
    "import random\n",
    "\n",
    "random.seed(1)\n",
    "means = [0.1, 0.1, 0.1, 0.1, 0.9]\n",
    "n_arms = len(means)\n",
    "random.shuffle(means)\n",
    "arms = list(map(lambda mu: BernoulliArm(mu), means))\n",
    "print(\"Best arm is \" + str(ind_max(means)))\n",
    "\n",
    "algo = AnnealingSoftmax([], [])\n",
    "algo.initialize(n_arms)\n",
    "results = test_algorithm(algo, arms, 5000, 250)\n",
    "\n",
    "\n",
    "f = open(\"D:\\coding\\bandit\\algorithms\\softmax\\annealing_softmax_results.tsv\", \"w\")\n",
    "for i in range(len(results[0])):\n",
    "    f.write(\"\\t\".join([str(results[j][i]) for j in range(len(results))]) + \"\\n\")\n",
    "\n",
    "f.close()"
   ]
  },
  {
   "cell_type": "markdown",
   "id": "4a1e71ff",
   "metadata": {
    "papermill": {
     "duration": 0.010636,
     "end_time": "2022-08-08T00:04:37.779632",
     "exception": false,
     "start_time": "2022-08-08T00:04:37.768996",
     "status": "completed"
    },
    "tags": []
   },
   "source": [
    "# CHAPTER 6.UCB - The Upper Confidence Bound Algorithm"
   ]
  },
  {
   "cell_type": "markdown",
   "id": "67140a00",
   "metadata": {
    "papermill": {
     "duration": 0.01047,
     "end_time": "2022-08-08T00:04:37.801617",
     "exception": false,
     "start_time": "2022-08-08T00:04:37.791147",
     "status": "completed"
    },
    "tags": []
   },
   "source": [
    "보상 획득률에 더하여 전체 시행횟수와 각 슬롯머신의 시행횟수를 이용하는 알고리즘이며, 사전에 설정해야 하는 변수가 없는 특징이 있다. UCB 알고리즘은 충\n",
    "분한 시행 후에는 MAB 알고리즘 중 가장 높은 보상을 얻는 장점이 있으나, 충분한 시행 횟수를 알아내기 어렵고 시행 초기에 평균 보상 획득률의 변동\n",
    "이 상대적으로 매우 크기 때문에, 시행 기간이 짧다면 그 결과를 신뢰하기 어렵다는 단점이 있다"
   ]
  },
  {
   "cell_type": "markdown",
   "id": "7647468e",
   "metadata": {
    "papermill": {
     "duration": 0.010384,
     "end_time": "2022-08-08T00:04:37.822932",
     "exception": false,
     "start_time": "2022-08-08T00:04:37.812548",
     "status": "completed"
    },
    "tags": []
   },
   "source": [
    "## Introduction the UCB Algorithm\n",
    "\n",
    "\n",
    "#### epsilong greedy & Softmax 공통점\n",
    " - default choice로 최근 highest estimated value 갖는 arm 선택\n",
    " - 가끔씩 (입실론 그리디는 $\\epsilon$만큼, softmax는 각 arm들의 estimated value만큼 비례해서) best아닌 것도 explore함.\n",
    "  \n",
    "\n",
    "$\\rightarrow$ 지금까지 살펴본\n",
    "greedy와 softmax 알고리즘은 \" 지금까지 얻은 reward \" 값에 기반하여 \n",
    "뽑을 arm을 결정함.\n",
    "\n",
    "이미 알고 있는 사실에 초점을 맞춤\n",
    "\n",
    "따라서 \" how much they know \" 얼마나 알고 있는지에 대해서는 신경쓰지 않음\n",
    "\n",
    "그 결과,\n",
    "reward가 적게 나온 arm에대해서는 underexplore하게 됨.\n",
    "(arm이 bestarm보다 reward좋지 않으니까 뽑힐 확률이 더 적음.\n",
    "\n",
    "\n"
   ]
  },
  {
   "cell_type": "markdown",
   "id": "65a6bec4",
   "metadata": {
    "papermill": {
     "duration": 0.010352,
     "end_time": "2022-08-08T00:04:37.844102",
     "exception": false,
     "start_time": "2022-08-08T00:04:37.833750",
     "status": "completed"
    },
    "tags": []
   },
   "source": []
  },
  {
   "cell_type": "markdown",
   "id": "c229b836",
   "metadata": {
    "papermill": {
     "duration": 0.01048,
     "end_time": "2022-08-08T00:04:37.865411",
     "exception": false,
     "start_time": "2022-08-08T00:04:37.854931",
     "status": "completed"
    },
    "tags": []
   },
   "source": [
    "\n",
    "### UCB알고리즘의 장단점\n",
    "\n",
    "#### 장점\n",
    "- 설정해야할 hyperparameter가 없음\n",
    "( 따라서 현실적으로 사용하기 좋음 ) \n",
    "\n",
    "- 랜덤 탐색을 하지 않음.\n",
    "\n",
    "  just 최적이 될 수 있을 만한 slot머신을 선택할 가능성을 수치로 계산하여 이를 바탕으로 선택 결정\n",
    "\n",
    "  ( 따라서 어떻게 행동하는지 알 수 있음 )\n",
    "  \n",
    "\n",
    "#### 단점\n",
    "- 매 round마다 수치 값을 갱신 하여야 함.\n",
    "- UCB 계산을 위해 empirical mean이 필수적이기 때문에, 처음에 모든 slot machine을 한번씩 다 탐색해야함.\n"
   ]
  },
  {
   "cell_type": "markdown",
   "id": "689ed980",
   "metadata": {
    "papermill": {
     "duration": 0.010403,
     "end_time": "2022-08-08T00:04:37.886572",
     "exception": false,
     "start_time": "2022-08-08T00:04:37.876169",
     "status": "completed"
    },
    "tags": []
   },
   "source": [
    "### 왜 UCB를 사용해야 할까?\n",
    "#### UCB can make decisions to explore that are driven by our confidence in the estimated value of the arms we've selected.\n",
    "\n",
    "UCB는 우리가 고른 arm들에 대한 추정 보상의 신뢰구간을 사용해서 explore할지 결정.\n",
    "\n",
    "-> arm들의 보상의 confidence가 중요한 이유 : \n",
    "\n",
    " : rewards는 noise가 있기 때문!\n",
    " \n",
    "epsilon greedy, softmax 알고리즘은 are **NOT** robust to this noise.\n",
    "\n",
    "randomness가 있기 때문에 우연히 negative experience하게 되면, 치명적으로 영향 받을 수 있음\n",
    "\n",
    "//\n",
    "\n",
    "하지만 UCB는 전혀 randomness가 없음!\n",
    "그 대신 UCB는 모든 arm들에 대해서 **추정된 보상의 값들의 평가에 대한 confidence를 keep track** 함 : )\n",
    "\n",
    "-> 이를 위해서, we need to have some metric of how much we know about each arm\n",
    "\n",
    "( 우리가 각각 arm들에 대해서 얼마나 아는지 재는 척도가 필요 : 우리가 **각각 arm들을 얼마나 당겼는지 횟수** 이용 )\n",
    "\n"
   ]
  },
  {
   "cell_type": "markdown",
   "id": "d7682d17",
   "metadata": {
    "papermill": {
     "duration": 0.010403,
     "end_time": "2022-08-08T00:04:37.907818",
     "exception": false,
     "start_time": "2022-08-08T00:04:37.897415",
     "status": "completed"
    },
    "tags": []
   },
   "source": [
    "## UCB1\n",
    "\n",
    "이 책에서는 UCB1에 대해서만 다룸\n",
    "\n",
    "UCB1은 the maximum possible reward가 1이라는 가정 필요.\n",
    "\n",
    "(만약 그렇지 않다면, rescale all of rewards to lie between 0 and 1)"
   ]
  },
  {
   "cell_type": "code",
   "execution_count": 15,
   "id": "5d25c040",
   "metadata": {
    "execution": {
     "iopub.execute_input": "2022-08-08T00:04:37.931619Z",
     "iopub.status.busy": "2022-08-08T00:04:37.931006Z",
     "iopub.status.idle": "2022-08-08T00:04:37.942070Z",
     "shell.execute_reply": "2022-08-08T00:04:37.941250Z"
    },
    "papermill": {
     "duration": 0.025612,
     "end_time": "2022-08-08T00:04:37.944176",
     "exception": false,
     "start_time": "2022-08-08T00:04:37.918564",
     "status": "completed"
    },
    "tags": []
   },
   "outputs": [],
   "source": [
    "#ucb/ucb1.py \n",
    "import math\n",
    "\n",
    "def ind_max(x):\n",
    "    m = max(x)\n",
    "    return x.index(m)\n",
    "\n",
    "class UCB1():\n",
    "    def __init__(self, counts, values): #결정해야 할 hyperparameters가 존재하지 않음.\n",
    "        self.counts = counts\n",
    "        self.values = values\n",
    "        return\n",
    "  \n",
    "    def initialize(self, n_arms):\n",
    "        self.counts = [0 for col in range(n_arms)]\n",
    "        self.values = [0.0 for col in range(n_arms)]\n",
    "        return\n",
    "  \n",
    "    # to ensure that 적어도 한번씩은 모든 arm들을 땡겨야한다\n",
    "    # 이는 cold start가 없도록 해줌.\n",
    "    # it ensures that UCB knows little bit all about the arms 모든 arm에 대해서 조금씩은 알고 있음.\n",
    "    # 따라서 완전히 분명히 효율이 떨어지는 arm에 대해서 처음부터 explore 안하도록 할 수 있음.\n",
    "    # 하지만 적어도 모든 arm을 한번씩은 당겨봐야한다는 단점\n",
    "    def select_arm(self):\n",
    "        n_arms = len(self.counts)\n",
    "        for arm in range(n_arms):\n",
    "            if self.counts[arm] == 0: # 적어도 한번씩은 모든 arm들을 땡겨야한다\n",
    "                return arm\n",
    "\n",
    "        ucb_values = [0.0 for arm in range(n_arms)]\n",
    "        total_counts = sum(self.counts)\n",
    "        for arm in range(n_arms):\n",
    "            bonus = math.sqrt((2 * math.log(total_counts)) / float(self.counts[arm]))\n",
    "             # 시간이 흐를 수록 이 term의 영향력은 작아짐. (로그로 서서히 증가하므로),\n",
    "             # 당기는 횟수가 많을 수록 작아짐 (즉 적게 당긴 arm일 수록 뽑힐 확률이 증가 )\n",
    "                # 얼마나 우리가 덜 아는지를 반영_ 즉 다른거 보다 little worse해 보여도 모르는 것에 대해서 알고자함.\n",
    "            ucb_values[arm] = self.values[arm] + bonus # reward의 평균에 penalty항이 같이 붙음.\n",
    "        return ind_max(ucb_values)\n",
    "  \n",
    "    def update(self, chosen_arm, reward):\n",
    "        self.counts[chosen_arm] = self.counts[chosen_arm] + 1\n",
    "        n = self.counts[chosen_arm]\n",
    "\n",
    "        value = self.values[chosen_arm]\n",
    "        new_value = ((n - 1) / float(n)) * value + (1 / float(n)) * reward\n",
    "        self.values[chosen_arm] = new_value\n",
    "        return"
   ]
  },
  {
   "cell_type": "code",
   "execution_count": 16,
   "id": "cf231594",
   "metadata": {
    "execution": {
     "iopub.execute_input": "2022-08-08T00:04:37.967797Z",
     "iopub.status.busy": "2022-08-08T00:04:37.967179Z",
     "iopub.status.idle": "2022-08-08T00:04:37.971608Z",
     "shell.execute_reply": "2022-08-08T00:04:37.970604Z"
    },
    "papermill": {
     "duration": 0.018642,
     "end_time": "2022-08-08T00:04:37.973730",
     "exception": false,
     "start_time": "2022-08-08T00:04:37.955088",
     "status": "completed"
    },
    "tags": []
   },
   "outputs": [],
   "source": [
    "# # ucb/test_ucb1.py\n",
    "# import random\n",
    "\n",
    "# random.seed(1)\n",
    "# means = [0.1, 0.1, 0.1, 0.1, 0.9]\n",
    "# n_arms = len(means)\n",
    "# random.shuffle(means)\n",
    "# arms = list(map(lambda mu: BernoulliArm(mu), means))\n",
    "# print(\"Best arm is \" + str(ind_max(means)))\n",
    "\n",
    "# algo = UCB1([], [])\n",
    "# algo.initialize(n_arms)\n",
    "# results = test_algorithm(algo, arms, 5000, 250)\n",
    "\n",
    "# f = open(\"D:\\coding\\bandit\\algorithms\\ucb\\ucb1_results.tsv\", \"w\")\n",
    "\n",
    "# for i in range(len(results[0])):\n",
    "#     f.write(\"\\t\".join([str(results[j][i]) for j in range(len(results))]) + \"\\n\")\n",
    "\n",
    "# f.close()"
   ]
  },
  {
   "cell_type": "markdown",
   "id": "9c6d4b4e",
   "metadata": {
    "papermill": {
     "duration": 0.010665,
     "end_time": "2022-08-08T00:04:37.995454",
     "exception": false,
     "start_time": "2022-08-08T00:04:37.984789",
     "status": "completed"
    },
    "tags": []
   },
   "source": [
    "책 figure 6-1설명 참조.\n",
    "그래프 그리는법 알아보기\n",
    "\n",
    "In factthis curiosity bonus means that UCB can behave in very surprising ways. For example, consider the plot shown in Fugure 6-1 of UCB's chances of selecting the right arm at any given point in time.\n",
    "\n",
    "This graph looks very noisy compared with he graphs we've shown for the epsilon Greedy and Softmax algorithm. As we noted ealier, UCB does not use any randomness when selecting arms. so where is teh noise comming from?\n",
    "And Why is it so striking compared with the randomized algorithms we described earlier?\n",
    "\n",
    "The answer is surprising and reveals why the curiosity bonus that UCB has can behave in an non-intuitive ways : The little dips you see in this graph come from UCB backpedaling and experimenting with inferior arms because it comes to the conclusion that it knows too little about those arms. This backpedaling matters less and less over time, but is is alwyas present inUCB's behavior, which means that UCB doe snot become a strictly greedy algorithm even if you have a huge amount of data.\n",
    "\n",
    "At fist this backpdaling may seem troubling.\n",
    "To convince you that UCB is often very effective despite this counter intuitive tendency to oscillate back into exploring inferior arms, we need to explicitly compare UCB with the other algorithms we have studied so far.\n",
    "\n",
    "This is quite easy to do, because we can simply pool all of the simulation results we ahve gathered so far and treat them like a single unit for analysis. In the next section we wak though the result.\n"
   ]
  },
  {
   "cell_type": "markdown",
   "id": "b7187438",
   "metadata": {
    "papermill": {
     "duration": 0.010531,
     "end_time": "2022-08-08T00:04:38.016882",
     "exception": false,
     "start_time": "2022-08-08T00:04:38.006351",
     "status": "completed"
    },
    "tags": []
   },
   "source": [
    "## 참고 책에 없음 _ucb2"
   ]
  },
  {
   "cell_type": "code",
   "execution_count": 17,
   "id": "6384b66e",
   "metadata": {
    "execution": {
     "iopub.execute_input": "2022-08-08T00:04:38.040474Z",
     "iopub.status.busy": "2022-08-08T00:04:38.039884Z",
     "iopub.status.idle": "2022-08-08T00:04:38.086070Z",
     "shell.execute_reply": "2022-08-08T00:04:38.085210Z"
    },
    "papermill": {
     "duration": 0.060875,
     "end_time": "2022-08-08T00:04:38.088592",
     "exception": false,
     "start_time": "2022-08-08T00:04:38.027717",
     "status": "completed"
    },
    "tags": []
   },
   "outputs": [],
   "source": [
    "#ucb2\n",
    "import math\n",
    "\n",
    "def ind_max(x):\n",
    "    m = max(x)\n",
    "    return x.index(m)\n",
    "\n",
    "class UCB2(object):\n",
    "    def __init__(self, alpha, counts, values):\n",
    "\n",
    "    # UCB2 algorithm. Implementation of the slides at:\n",
    "    # http://lane.compbio.cmu.edu/courses/slides_ucb.pdf\n",
    "\n",
    "        self.alpha = alpha\n",
    "        self.counts = counts\n",
    "        self.values = values\n",
    "        self.__current_arm = 0\n",
    "        self.__next_update = 0\n",
    "        return\n",
    "  \n",
    "    def initialize(self, n_arms):\n",
    "        self.counts = [0 for col in range(n_arms)]\n",
    "        self.values = [0.0 for col in range(n_arms)]\n",
    "        self.r = [0 for col in range(n_arms)]\n",
    "        self.__current_arm = 0\n",
    "        self.__next_update = 0\n",
    "  \n",
    "    def __bonus(self, n, r):\n",
    "        tau = self.__tau(r)\n",
    "        bonus = math.sqrt((1. + self.alpha) * math.log(math.e * float(n) / tau) / (2 * tau))\n",
    "        return bonus\n",
    "  \n",
    "    def __tau(self, r):\n",
    "        return int(math.ceil((1 + self.alpha) ** r))\n",
    "  \n",
    "    def __set_arm(self, arm):\n",
    "\n",
    "    # When choosing a new arm, make sure we play that arm for\n",
    "    # tau(r+1) - tau(r) episodes.\n",
    "\n",
    "        self.__current_arm = arm\n",
    "        self.__next_update += max(1, self.__tau(self.r[arm] + 1) - self.__tau(self.r[arm]))\n",
    "        self.r[arm] += 1\n",
    "  \n",
    "    def select_arm(self):\n",
    "        n_arms = len(self.counts)\n",
    "    \n",
    "    # play each arm once\n",
    "        for arm in range(n_arms):\n",
    "            if self.counts[arm] == 0:\n",
    "                self.__set_arm(arm)\n",
    "                return arm\n",
    "    \n",
    "    # make sure we aren't still playing the previous arm.\n",
    "        if self.__next_update > sum(self.counts):\n",
    "            return self.__current_arm\n",
    "    \n",
    "        ucb_values = [0.0 for arm in range(n_arms)]\n",
    "        total_counts = sum(self.counts)\n",
    "        for arm in xrange(n_arms):\n",
    "            bonus = self.__bonus(total_counts, self.r[arm])\n",
    "            ucb_values[arm] = self.values[arm] + bonus\n",
    "    \n",
    "        chosen_arm = ind_max(ucb_values)\n",
    "        self.__set_arm(chosen_arm)\n",
    "        return chosen_arm\n",
    "  \n",
    "    def update(self, chosen_arm, reward):\n",
    "        self.counts[chosen_arm] = self.counts[chosen_arm] + 1\n",
    "        n = self.counts[chosen_arm]\n",
    "    \n",
    "        value = self.values[chosen_arm]\n",
    "        new_value = ((n - 1) / float(n)) * value + (1 / float(n)) * reward\n",
    "        self.values[chosen_arm] = new_value"
   ]
  },
  {
   "cell_type": "code",
   "execution_count": 18,
   "id": "00c002c3",
   "metadata": {
    "execution": {
     "iopub.execute_input": "2022-08-08T00:04:38.112658Z",
     "iopub.status.busy": "2022-08-08T00:04:38.112235Z",
     "iopub.status.idle": "2022-08-08T00:04:38.116843Z",
     "shell.execute_reply": "2022-08-08T00:04:38.115950Z"
    },
    "papermill": {
     "duration": 0.019097,
     "end_time": "2022-08-08T00:04:38.118866",
     "exception": false,
     "start_time": "2022-08-08T00:04:38.099769",
     "status": "completed"
    },
    "tags": []
   },
   "outputs": [],
   "source": [
    "# # ucb/test_ucb2.py\n",
    "# import random\n",
    "\n",
    "# random.seed(1)\n",
    "# means = [0.1, 0.1, 0.1, 0.1, 0.9]\n",
    "# n_arms = len(means)\n",
    "# random.shuffle(means)\n",
    "# arms = list(map(lambda mu: BernoulliArm(mu), means))\n",
    "# print(\"Best arm is \" + str(ind_max(means)))\n",
    "\n",
    "# for alpha in [0.1, 0.3, 0.5, 0.7, 0.9]:\n",
    "#     algo = UCB2(alpha, [], [])\n",
    "#     algo.initialize(n_arms)\n",
    "#     results = test_algorithm(algo, arms, 5000, 250)\n",
    "    \n",
    "#     f = open(\"D:\\coding\\bandit\\algorithms\\ucb\\ucbucb2_results.tsv\", \"w\")\n",
    "\n",
    "#     #f = open(\"D:\\coding\\bandit\\algorithms\\ucbucb2_results_%s.tsv\" % alpha, \"w\")\n",
    "\n",
    "#     for i in range(len(results[0])):\n",
    "#         f.write(\"\\t\".join([str(results[j][i]) for j in range(len(results))]))\n",
    "#         f.write(\"\\t%s\\n\" % alpha)\n",
    "\n",
    "#     f.close()"
   ]
  },
  {
   "cell_type": "markdown",
   "id": "328b95a6",
   "metadata": {
    "papermill": {
     "duration": 0.010666,
     "end_time": "2022-08-08T00:04:38.140667",
     "exception": false,
     "start_time": "2022-08-08T00:04:38.130001",
     "status": "completed"
    },
    "tags": []
   },
   "source": [
    "# 참고 책에 없음 _exp3"
   ]
  },
  {
   "cell_type": "code",
   "execution_count": 19,
   "id": "5a582be3",
   "metadata": {
    "execution": {
     "iopub.execute_input": "2022-08-08T00:04:38.164541Z",
     "iopub.status.busy": "2022-08-08T00:04:38.164118Z",
     "iopub.status.idle": "2022-08-08T00:04:38.176369Z",
     "shell.execute_reply": "2022-08-08T00:04:38.175508Z"
    },
    "papermill": {
     "duration": 0.027066,
     "end_time": "2022-08-08T00:04:38.178728",
     "exception": false,
     "start_time": "2022-08-08T00:04:38.151662",
     "status": "completed"
    },
    "tags": []
   },
   "outputs": [],
   "source": [
    "import random\n",
    "import math\n",
    "\n",
    "def categorical_draw(probs):\n",
    "    z = random.random()\n",
    "    cum_prob = 0.0\n",
    "    for i in range(len(probs)):\n",
    "        prob = probs[i]\n",
    "        cum_prob += prob\n",
    "        if cum_prob > z:\n",
    "            return i\n",
    "\n",
    "    return len(probs) - 1\n",
    "\n",
    "class Exp3():\n",
    "    def __init__(self, gamma, weights):\n",
    "        self.gamma = gamma\n",
    "        self.weights = weights\n",
    "        return\n",
    "  \n",
    "    def initialize(self, n_arms):\n",
    "        self.weights = [1.0 for i in range(n_arms)]\n",
    "        return\n",
    "  \n",
    "    def select_arm(self):\n",
    "        n_arms = len(self.weights)\n",
    "        total_weight = sum(self.weights)\n",
    "        probs = [0.0 for i in range(n_arms)]\n",
    "        for arm in range(n_arms):\n",
    "            probs[arm] = (1 - self.gamma) * (self.weights[arm] / total_weight)\n",
    "            probs[arm] = probs[arm] + (self.gamma) * (1.0 / float(n_arms))\n",
    "        return categorical_draw(probs)\n",
    "  \n",
    "    def update(self, chosen_arm, reward):\n",
    "        n_arms = len(self.weights)\n",
    "        total_weight = sum(self.weights)\n",
    "        probs = [0.0 for i in range(n_arms)]\n",
    "        for arm in range(n_arms):\n",
    "            probs[arm] = (1 - self.gamma) * (self.weights[arm] / total_weight)\n",
    "            probs[arm] = probs[arm] + (self.gamma) * (1.0 / float(n_arms))\n",
    "    \n",
    "        x = reward / probs[chosen_arm]\n",
    "    \n",
    "        growth_factor = math.exp((self.gamma / n_arms) * x)\n",
    "        self.weights[chosen_arm] = self.weights[chosen_arm] * growth_factor"
   ]
  },
  {
   "cell_type": "code",
   "execution_count": 20,
   "id": "666c25ed",
   "metadata": {
    "execution": {
     "iopub.execute_input": "2022-08-08T00:04:38.203017Z",
     "iopub.status.busy": "2022-08-08T00:04:38.202427Z",
     "iopub.status.idle": "2022-08-08T00:05:01.414274Z",
     "shell.execute_reply": "2022-08-08T00:05:01.413102Z"
    },
    "papermill": {
     "duration": 23.22727,
     "end_time": "2022-08-08T00:05:01.417136",
     "exception": false,
     "start_time": "2022-08-08T00:04:38.189866",
     "status": "completed"
    },
    "tags": []
   },
   "outputs": [
    {
     "name": "stdout",
     "output_type": "stream",
     "text": [
      "Best arm is 2\n"
     ]
    }
   ],
   "source": [
    "# exp3/test_exp3.py\n",
    "import random\n",
    "\n",
    "random.seed(1)\n",
    "means = [0.1, 0.1, 0.1, 0.1, 0.9]\n",
    "n_arms = len(means)\n",
    "random.shuffle(means)\n",
    "arms = list(map(lambda mu: BernoulliArm(mu), means))\n",
    "print(\"Best arm is \" + str(ind_max(means)))\n",
    "\n",
    "\n",
    "f = open(\"D:\\coding\\bandit\\algorithms\\exp3\\exp3_results.tsv\", \"w\")\n",
    "\n",
    "for exp3_gamma in [0.1, 0.2, 0.3, 0.4, 0.5]:\n",
    "    algo = Exp3(exp3_gamma, [])\n",
    "    algo.initialize(n_arms)\n",
    "    results = test_algorithm(algo, arms, 5000, 250)\n",
    "    for i in range(len(results[0])):\n",
    "        f.write(str(exp3_gamma) + \"\\t\")\n",
    "        f.write(\"\\t\".join([str(results[j][i]) for j in range(len(results))]) + \"\\n\")\n",
    "\n",
    "f.close()"
   ]
  },
  {
   "cell_type": "markdown",
   "id": "77bb4f4d",
   "metadata": {
    "papermill": {
     "duration": 0.010707,
     "end_time": "2022-08-08T00:05:01.439148",
     "exception": false,
     "start_time": "2022-08-08T00:05:01.428441",
     "status": "completed"
    },
    "tags": []
   },
   "source": [
    "# 참고 책에 없음 _Hedge"
   ]
  },
  {
   "cell_type": "code",
   "execution_count": 21,
   "id": "fbdc589e",
   "metadata": {
    "execution": {
     "iopub.execute_input": "2022-08-08T00:05:01.463186Z",
     "iopub.status.busy": "2022-08-08T00:05:01.462529Z",
     "iopub.status.idle": "2022-08-08T00:05:01.472168Z",
     "shell.execute_reply": "2022-08-08T00:05:01.471394Z"
    },
    "papermill": {
     "duration": 0.024062,
     "end_time": "2022-08-08T00:05:01.474249",
     "exception": false,
     "start_time": "2022-08-08T00:05:01.450187",
     "status": "completed"
    },
    "tags": []
   },
   "outputs": [],
   "source": [
    "import math\n",
    "import random\n",
    "\n",
    "def categorical_draw(probs):\n",
    "    z = random.random()\n",
    "    cum_prob = 0.0\n",
    "    for i in range(len(probs)):\n",
    "        prob = probs[i]\n",
    "        cum_prob += prob\n",
    "        if cum_prob > z:\n",
    "            return i\n",
    "  \n",
    "    return len(probs) - 1\n",
    "\n",
    "class Hedge:\n",
    "    def __init__(self, temperature, counts, values):\n",
    "        self.temperature = temperature\n",
    "        self.counts = counts\n",
    "        self.values = values\n",
    "        return\n",
    "  \n",
    "    def initialize(self, n_arms):\n",
    "        self.counts = [0 for col in range(n_arms)]\n",
    "        self.values = [0.0 for col in range(n_arms)]\n",
    "        return\n",
    "  \n",
    "    def select_arm(self):\n",
    "        z = sum([math.exp(v / self.temperature) for v in self.values])\n",
    "        probs = [math.exp(v / self.temperature) / z for v in self.values]\n",
    "        return categorical_draw(probs)\n",
    "  \n",
    "    def update(self, chosen_arm, reward):\n",
    "        self.counts[chosen_arm] = self.counts[chosen_arm] + 1\n",
    "    \n",
    "        value = self.values[chosen_arm]\n",
    "        self.values[chosen_arm] = value + reward\n",
    "        return"
   ]
  },
  {
   "cell_type": "code",
   "execution_count": 22,
   "id": "6d094daa",
   "metadata": {
    "execution": {
     "iopub.execute_input": "2022-08-08T00:05:01.498510Z",
     "iopub.status.busy": "2022-08-08T00:05:01.497808Z",
     "iopub.status.idle": "2022-08-08T00:05:25.561132Z",
     "shell.execute_reply": "2022-08-08T00:05:25.559911Z"
    },
    "papermill": {
     "duration": 24.078353,
     "end_time": "2022-08-08T00:05:25.563794",
     "exception": false,
     "start_time": "2022-08-08T00:05:01.485441",
     "status": "completed"
    },
    "tags": []
   },
   "outputs": [
    {
     "name": "stdout",
     "output_type": "stream",
     "text": [
      "Best arm is 2\n"
     ]
    }
   ],
   "source": [
    "# hedge/test_hedge.py\n",
    "import random\n",
    "\n",
    "random.seed(1)\n",
    "means = [0.1, 0.1, 0.1, 0.1, 0.9]\n",
    "n_arms = len(means)\n",
    "random.shuffle(means)\n",
    "arms = list(map(lambda mu: BernoulliArm(mu), means))\n",
    "print(\"Best arm is \" + str(ind_max(means)))\n",
    "\n",
    "f = open(\"D:\\coding\\bandit\\algorithms\\hedge\\hedge_results.tsv\", \"w\")\n",
    "\n",
    "for eta in [.5, .8, .9, 1, 2]:\n",
    "    algo = Hedge(eta, [], [])\n",
    "    algo.initialize(n_arms)\n",
    "    results = test_algorithm(algo, arms, 5000, 250)\n",
    "    for i in range(len(results[0])):\n",
    "        f.write(str(temperature) + \"\\t\")\n",
    "        f.write(\"\\t\".join([str(results[j][i]) for j in range(len(results))]) + \"\\n\")\n"
   ]
  },
  {
   "cell_type": "markdown",
   "id": "954ec996",
   "metadata": {
    "papermill": {
     "duration": 0.010853,
     "end_time": "2022-08-08T00:05:25.586078",
     "exception": false,
     "start_time": "2022-08-08T00:05:25.575225",
     "status": "completed"
    },
    "tags": []
   },
   "source": [
    "# Demo"
   ]
  },
  {
   "cell_type": "code",
   "execution_count": 23,
   "id": "51813f50",
   "metadata": {
    "execution": {
     "iopub.execute_input": "2022-08-08T00:05:25.610015Z",
     "iopub.status.busy": "2022-08-08T00:05:25.609620Z",
     "iopub.status.idle": "2022-08-08T00:05:25.651217Z",
     "shell.execute_reply": "2022-08-08T00:05:25.650074Z"
    },
    "papermill": {
     "duration": 0.056779,
     "end_time": "2022-08-08T00:05:25.654077",
     "exception": false,
     "start_time": "2022-08-08T00:05:25.597298",
     "status": "completed"
    },
    "tags": []
   },
   "outputs": [
    {
     "name": "stdout",
     "output_type": "stream",
     "text": [
      "[2, 8, 0]\n",
      "[0.5, 9.865632590186099, 0.0]\n",
      "[0, 10, 0]\n",
      "[0.0, 10.413914302764033, 0.0]\n",
      "[1, 8, 1]\n",
      "[1.0, 10.073857961272362, 0.0]\n",
      "[2.670943341874295, 1150.9495331751334, 1.0]\n"
     ]
    }
   ],
   "source": [
    "arm1 = BernoulliArm(0.7)\n",
    "arm1.draw()\n",
    "arm1.draw()\n",
    "\n",
    "arm2 = NormalArm(10.0, 1.0)\n",
    "arm2.draw()\n",
    "arm2.draw()\n",
    "\n",
    "arm3 = BernoulliArm(0.2)\n",
    "arm3.draw()\n",
    "arm3.draw()\n",
    "\n",
    "arms = [arm1, arm2, arm3]\n",
    "\n",
    "n_arms = len(arms)\n",
    "\n",
    "algo1 = EpsilonGreedy(0.1, [], [])\n",
    "algo2 = Softmax(1.0, [], [])\n",
    "algo3 = UCB1([], [])\n",
    "algo4 = Exp3(0.2, [])\n",
    "\n",
    "algos = [algo1, algo2, algo3, algo4]\n",
    "\n",
    "for algo in algos:\n",
    "    algo.initialize(n_arms)\n",
    "\n",
    "for t in range(10):\n",
    "    for algo in algos:\n",
    "        chosen_arm = algo.select_arm()\n",
    "        reward = arms[chosen_arm].draw()\n",
    "        algo.update(chosen_arm, reward)\n",
    "\n",
    "print(algo1.counts)\n",
    "print(algo1.values)\n",
    "\n",
    "print(algo2.counts)\n",
    "print(algo2.values)\n",
    "\n",
    "print(algo3.counts)\n",
    "print(algo3.values)\n",
    "\n",
    "print(algo4.weights)\n",
    "\n",
    "num_sims = 1000\n",
    "horizon = 10\n",
    "results = test_algorithm(algo1, arms, num_sims, horizon)"
   ]
  }
 ],
 "metadata": {
  "kernelspec": {
   "display_name": "Python 3",
   "language": "python",
   "name": "python3"
  },
  "language_info": {
   "codemirror_mode": {
    "name": "ipython",
    "version": 3
   },
   "file_extension": ".py",
   "mimetype": "text/x-python",
   "name": "python",
   "nbconvert_exporter": "python",
   "pygments_lexer": "ipython3",
   "version": "3.7.12"
  },
  "papermill": {
   "default_parameters": {},
   "duration": 120.604523,
   "end_time": "2022-08-08T00:05:28.817218",
   "environment_variables": {},
   "exception": null,
   "input_path": "__notebook__.ipynb",
   "output_path": "__notebook__.ipynb",
   "parameters": {},
   "start_time": "2022-08-08T00:03:28.212695",
   "version": "2.3.4"
  }
 },
 "nbformat": 4,
 "nbformat_minor": 5
}
